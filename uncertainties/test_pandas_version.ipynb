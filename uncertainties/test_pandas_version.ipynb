{
 "cells": [
  {
   "cell_type": "markdown",
   "metadata": {},
   "source": [
    "# Error propagation in an arbitrary multivariate function"
   ]
  },
  {
   "cell_type": "markdown",
   "metadata": {},
   "source": [
    "We are going to calculate the value and propagated error of an observable $Z$ defined as\n",
    "\n",
    "\\begin{align*}\n",
    "    Z = f(A, B, C, ...)\n",
    "\\end{align*}\n",
    "\n",
    "For this particular example, we take \n",
    "\n",
    "\\begin{align}\n",
    "    Z(A, B, C, D) = A^2 + B \\ln(C/D)\n",
    "\\end{align}"
   ]
  },
  {
   "cell_type": "markdown",
   "metadata": {},
   "source": [
    "## Import data\n",
    "\n",
    "The imported table contains symbols '$A$', '$B$', ..., mean values $\\bar A, \\bar B, ...$ and uncertainties $\\alpha_A, \\alpha_B$\n"
   ]
  },
  {
   "cell_type": "code",
   "execution_count": 1,
   "metadata": {},
   "outputs": [
    {
     "data": {
      "text/html": [
       "<div>\n",
       "<style scoped>\n",
       "    .dataframe tbody tr th:only-of-type {\n",
       "        vertical-align: middle;\n",
       "    }\n",
       "\n",
       "    .dataframe tbody tr th {\n",
       "        vertical-align: top;\n",
       "    }\n",
       "\n",
       "    .dataframe thead th {\n",
       "        text-align: right;\n",
       "    }\n",
       "</style>\n",
       "<table border=\"1\" class=\"dataframe\">\n",
       "  <thead>\n",
       "    <tr style=\"text-align: right;\">\n",
       "      <th></th>\n",
       "      <th>val</th>\n",
       "      <th>delta</th>\n",
       "    </tr>\n",
       "    <tr>\n",
       "      <th>symbol</th>\n",
       "      <th></th>\n",
       "      <th></th>\n",
       "    </tr>\n",
       "  </thead>\n",
       "  <tbody>\n",
       "    <tr>\n",
       "      <th>A</th>\n",
       "      <td>1.20</td>\n",
       "      <td>0.10</td>\n",
       "    </tr>\n",
       "    <tr>\n",
       "      <th>B</th>\n",
       "      <td>1.30</td>\n",
       "      <td>0.01</td>\n",
       "    </tr>\n",
       "    <tr>\n",
       "      <th>C</th>\n",
       "      <td>1.25</td>\n",
       "      <td>0.01</td>\n",
       "    </tr>\n",
       "    <tr>\n",
       "      <th>D</th>\n",
       "      <td>1.15</td>\n",
       "      <td>0.05</td>\n",
       "    </tr>\n",
       "  </tbody>\n",
       "</table>\n",
       "</div>"
      ],
      "text/plain": [
       "         val  delta\n",
       "symbol             \n",
       "A       1.20   0.10\n",
       "B       1.30   0.01\n",
       "C       1.25   0.01\n",
       "D       1.15   0.05"
      ]
     },
     "execution_count": 1,
     "metadata": {},
     "output_type": "execute_result"
    }
   ],
   "source": [
    "import pandas as pd\n",
    "import sympy as sym\n",
    "\n",
    "parameters = pd.read_csv('parameters_table.csv').set_index('symbol')\n",
    "parameters\n"
   ]
  },
  {
   "cell_type": "markdown",
   "metadata": {},
   "source": [
    "## define symbols and expressions\n",
    "\n",
    "define variables as sympy symbols and $Z$ as a sympy expression"
   ]
  },
  {
   "cell_type": "code",
   "execution_count": 2,
   "metadata": {},
   "outputs": [],
   "source": [
    "A, B, C, D = sym.symbols(\"A B C D\")\n",
    "Z = A**2 + B*sym.log(C/D)"
   ]
  },
  {
   "cell_type": "code",
   "execution_count": 3,
   "metadata": {},
   "outputs": [
    {
     "data": {
      "text/latex": [
       "$\\displaystyle 1.54839609162077$"
      ],
      "text/plain": [
       "1.54839609162077"
      ]
     },
     "execution_count": 3,
     "metadata": {},
     "output_type": "execute_result"
    }
   ],
   "source": [
    "Z_bar = Z.subs(parameters['val'].items())\n",
    "Z_bar"
   ]
  },
  {
   "cell_type": "markdown",
   "metadata": {},
   "source": [
    "## partial and total errors\n",
    "\n",
    "### partial errors \n",
    "\n",
    "These are calculated as the variation in $\\bar Z$ with respect to each variable as follows\n",
    "\n",
    "\\begin{align*}\n",
    "    \\alpha_Z^A &= Z(\\bar A + \\alpha_A, \\bar B, \\bar C, \\bar D) - f(\\bar A, \\bar B, \\bar C, \\bar D) \\\\\n",
    "    &\\vdots \\\\\n",
    "    \\alpha_Z^D &= Z(\\bar A, \\bar B, \\bar C, \\bar D + \\alpha_D) - f(\\bar A, \\bar B, \\bar C, \\bar D)\n",
    "\\end{align*}"
   ]
  },
  {
   "cell_type": "code",
   "execution_count": 4,
   "metadata": {},
   "outputs": [
    {
     "data": {
      "text/html": [
       "<div>\n",
       "<style scoped>\n",
       "    .dataframe tbody tr th:only-of-type {\n",
       "        vertical-align: middle;\n",
       "    }\n",
       "\n",
       "    .dataframe tbody tr th {\n",
       "        vertical-align: top;\n",
       "    }\n",
       "\n",
       "    .dataframe thead th {\n",
       "        text-align: right;\n",
       "    }\n",
       "</style>\n",
       "<table border=\"1\" class=\"dataframe\">\n",
       "  <thead>\n",
       "    <tr style=\"text-align: right;\">\n",
       "      <th></th>\n",
       "      <th>val</th>\n",
       "      <th>delta</th>\n",
       "    </tr>\n",
       "    <tr>\n",
       "      <th>symbol</th>\n",
       "      <th></th>\n",
       "      <th></th>\n",
       "    </tr>\n",
       "  </thead>\n",
       "  <tbody>\n",
       "    <tr>\n",
       "      <th>A</th>\n",
       "      <td>1.20</td>\n",
       "      <td>0.10</td>\n",
       "    </tr>\n",
       "    <tr>\n",
       "      <th>B</th>\n",
       "      <td>1.30</td>\n",
       "      <td>0.01</td>\n",
       "    </tr>\n",
       "    <tr>\n",
       "      <th>C</th>\n",
       "      <td>1.25</td>\n",
       "      <td>0.01</td>\n",
       "    </tr>\n",
       "    <tr>\n",
       "      <th>D</th>\n",
       "      <td>1.15</td>\n",
       "      <td>0.05</td>\n",
       "    </tr>\n",
       "  </tbody>\n",
       "</table>\n",
       "</div>"
      ],
      "text/plain": [
       "         val  delta\n",
       "symbol             \n",
       "A       1.20   0.10\n",
       "B       1.30   0.01\n",
       "C       1.25   0.01\n",
       "D       1.15   0.05"
      ]
     },
     "execution_count": 4,
     "metadata": {},
     "output_type": "execute_result"
    }
   ],
   "source": [
    "parameters"
   ]
  },
  {
   "cell_type": "markdown",
   "metadata": {},
   "source": [
    "For a each variable, we calculate an array containing modified arguments. For variable $A$, for instance, the array is called *alpha_A_args* and is calculated according to replacement rules\n",
    "\n",
    "\\begin{align}\n",
    "    \\begin{array}{c}\n",
    "    A \\rightarrow A + \\alpha_A  \\\\\n",
    "    \\vdots \\\\\n",
    "    D \\rightarrow D\n",
    "    \\end{array}\n",
    "\\end{align}\n"
   ]
  },
  {
   "cell_type": "code",
   "execution_count": 5,
   "metadata": {},
   "outputs": [],
   "source": [
    "\n",
    "alpha_A_args = parameters['val'].copy()\n",
    "alpha_A_args.loc['A'] = alpha_A_args.loc['A'] + parameters['delta']['A']\n",
    "alpha_A = Z.subs(alpha_A_args.items()) - Z_bar"
   ]
  },
  {
   "cell_type": "markdown",
   "metadata": {},
   "source": [
    "For all variables\n",
    "\n",
    "\\begin{align*}\n",
    "    \\textit{'A'} &: \n",
    "    \\begin{pmatrix}\n",
    "    A \\rightarrow A + \\alpha_A  \\\\\n",
    "    \\vdots \\\\\n",
    "    D \\rightarrow D\n",
    "    \\end{pmatrix} \\\\\n",
    "    &\\qquad\\qquad\\vdots \\\\\n",
    "\\textit{'D'} &: \n",
    "\\begin{pmatrix}\n",
    "A \\rightarrow A  \\\\\n",
    "\\vdots \\\\\n",
    "D \\rightarrow D + \\alpha_D\n",
    "\\end{pmatrix}\n",
    "\\end{align*}"
   ]
  },
  {
   "cell_type": "code",
   "execution_count": 6,
   "metadata": {},
   "outputs": [],
   "source": [
    "mean_vals = parameters['val'].copy()\n",
    "uncertainties_val = parameters['delta']\n",
    "alpha_args = {}\n",
    "for symbol in parameters.index:\n",
    "    alpha_args[symbol] = mean_vals.copy()\n",
    "    alpha_args[symbol].loc[symbol] = mean_vals.loc[symbol] + uncertainties_val.loc[symbol]\n",
    "    \n",
    "    "
   ]
  },
  {
   "cell_type": "markdown",
   "metadata": {},
   "source": [
    "Then, the value of $(\\alpha_Z^j)^2 = |Z(\\text{args}_j) - \\bar Z|^2$ where $\\text{args}_j$ are the just calculated arrays of modified arguments. For all variables, the values are stored in the array *partial_sq_errors*"
   ]
  },
  {
   "cell_type": "code",
   "execution_count": 7,
   "metadata": {},
   "outputs": [
    {
     "data": {
      "text/latex": [
       "$\\displaystyle 0.0656691283861597$"
      ],
      "text/plain": [
       "0.0656691283861597"
      ]
     },
     "execution_count": 7,
     "metadata": {},
     "output_type": "execute_result"
    }
   ],
   "source": [
    "from numpy import array as np_array\n",
    "partial_sq_errors = np_array([abs(Z.subs(variable.items()) - Z_bar)**2 for variable in alpha_args.values()])\n",
    "total_error = partial_sq_errors.sum()\n",
    "total_error\n"
   ]
  },
  {
   "cell_type": "code",
   "execution_count": 8,
   "metadata": {},
   "outputs": [],
   "source": [
    "#TODO develop a more sofisticated example, with an input as an array of values instead of mean values directly and indirect mid-step measurements\n",
    "# before procedeing, the above algorithm is going to be implemented methods in a class"
   ]
  },
  {
   "cell_type": "code",
   "execution_count": 15,
   "metadata": {},
   "outputs": [
    {
     "data": {
      "text/plain": [
       "'1.54839609162077 +/- 0.0656691283861597'"
      ]
     },
     "execution_count": 15,
     "metadata": {},
     "output_type": "execute_result"
    }
   ],
   "source": [
    "# testing Observable class\n",
    "import uncertainties as unc\n",
    "Z = unc.Observable('parameters_table.csv', 'A**2 + B*log(C/D)')\n",
    "str(Z)\n",
    "\n",
    "#TODO before procedeing, error value must be checked\n"
   ]
  },
  {
   "cell_type": "markdown",
   "metadata": {},
   "source": [
    "## Sofisticated example+\n",
    "\n",
    "Now, suppose that variables $A$ and $B$ are non directly measurable, and depends on other variables.\n",
    "\n",
    "\\begin{align*}\n",
    "    A &= A(a_1, a_2) \\\\\n",
    "    B &= B(b_1, b_2, b_3, b_4)\n",
    "\\end{align*}\n",
    "\n",
    "\\begin{align*}\n",
    "    A(a_1, a_2) &= a_1 a_2 \\\\\n",
    "    B(b_1, b_2, b_3, b_4) &= b_1 b_2 + b_3 b_4\n",
    "\\end{align*}\n",
    "\n"
   ]
  },
  {
   "cell_type": "code",
   "execution_count": 10,
   "metadata": {},
   "outputs": [],
   "source": [
    "a1, a2 = sym.symbols(\"a1 a2\")\n",
    "b1, b2 = sym.symbols(\"b1 b2\")\n",
    "A = a1*a2\n",
    "B = b2/b1"
   ]
  },
  {
   "cell_type": "code",
   "execution_count": 17,
   "metadata": {},
   "outputs": [
    {
     "data": {
      "text/plain": [
       "'26.0000000000000 +/- 0.00520400000000003'"
      ]
     },
     "execution_count": 17,
     "metadata": {},
     "output_type": "execute_result"
    }
   ],
   "source": [
    "A = unc.Observable('parameters_A.csv', 'a1*a2')\n",
    "str(A)"
   ]
  },
  {
   "cell_type": "markdown",
   "metadata": {},
   "source": [
    "observable B is to be measured as the slope a linear regression"
   ]
  }
 ],
 "metadata": {
  "interpreter": {
   "hash": "916dbcbb3f70747c44a77c7bcd40155683ae19c65e1c03b4aa3499c5328201f1"
  },
  "kernelspec": {
   "display_name": "Python 3.10.4 64-bit",
   "language": "python",
   "name": "python3"
  },
  "language_info": {
   "codemirror_mode": {
    "name": "ipython",
    "version": 3
   },
   "file_extension": ".py",
   "mimetype": "text/x-python",
   "name": "python",
   "nbconvert_exporter": "python",
   "pygments_lexer": "ipython3",
   "version": "3.10.4"
  },
  "orig_nbformat": 4
 },
 "nbformat": 4,
 "nbformat_minor": 2
}
