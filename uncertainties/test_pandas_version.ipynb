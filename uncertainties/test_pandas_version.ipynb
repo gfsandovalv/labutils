{
 "cells": [
  {
   "cell_type": "markdown",
   "metadata": {},
   "source": [
    "# Error propagation in an arbitrary multivariate function"
   ]
  },
  {
   "cell_type": "markdown",
   "metadata": {},
   "source": [
    "We are going to calculate the value and propagated error of an observable $Z$ defined as\n",
    "\n",
    "\\begin{align*}\n",
    "    Z = f(A, B, C, ...)\n",
    "\\end{align*}\n",
    "\n",
    "For this particular example, we take \n",
    "\n",
    "\\begin{align}\n",
    "    Z(A, B, C, D) = A^2 + B \\ln(C/D)\n",
    "\\end{align}"
   ]
  },
  {
   "cell_type": "markdown",
   "metadata": {},
   "source": [
    "## Import data\n",
    "\n",
    "The imported table contains symbols '$A$', '$B$', ..., mean values $\\bar A, \\bar B, ...$ and uncertainties $\\alpha_A, \\alpha_B$\n"
   ]
  },
  {
   "cell_type": "code",
   "execution_count": 193,
   "metadata": {},
   "outputs": [
    {
     "data": {
      "text/html": [
       "<div>\n",
       "<style scoped>\n",
       "    .dataframe tbody tr th:only-of-type {\n",
       "        vertical-align: middle;\n",
       "    }\n",
       "\n",
       "    .dataframe tbody tr th {\n",
       "        vertical-align: top;\n",
       "    }\n",
       "\n",
       "    .dataframe thead th {\n",
       "        text-align: right;\n",
       "    }\n",
       "</style>\n",
       "<table border=\"1\" class=\"dataframe\">\n",
       "  <thead>\n",
       "    <tr style=\"text-align: right;\">\n",
       "      <th></th>\n",
       "      <th>valor_promedio</th>\n",
       "      <th>incertidumbre</th>\n",
       "    </tr>\n",
       "    <tr>\n",
       "      <th>parametro</th>\n",
       "      <th></th>\n",
       "      <th></th>\n",
       "    </tr>\n",
       "  </thead>\n",
       "  <tbody>\n",
       "    <tr>\n",
       "      <th>A</th>\n",
       "      <td>1.20</td>\n",
       "      <td>0.10</td>\n",
       "    </tr>\n",
       "    <tr>\n",
       "      <th>B</th>\n",
       "      <td>1.30</td>\n",
       "      <td>0.01</td>\n",
       "    </tr>\n",
       "    <tr>\n",
       "      <th>C</th>\n",
       "      <td>1.25</td>\n",
       "      <td>0.01</td>\n",
       "    </tr>\n",
       "    <tr>\n",
       "      <th>D</th>\n",
       "      <td>1.15</td>\n",
       "      <td>0.05</td>\n",
       "    </tr>\n",
       "  </tbody>\n",
       "</table>\n",
       "</div>"
      ],
      "text/plain": [
       "           valor_promedio  incertidumbre\n",
       "parametro                               \n",
       "A                    1.20           0.10\n",
       "B                    1.30           0.01\n",
       "C                    1.25           0.01\n",
       "D                    1.15           0.05"
      ]
     },
     "execution_count": 193,
     "metadata": {},
     "output_type": "execute_result"
    }
   ],
   "source": [
    "import pandas as pd\n",
    "import sympy as sym\n",
    "\n",
    "parameters = pd.read_csv('parameters_table.csv').set_index('parametro')\n",
    "parameters\n"
   ]
  },
  {
   "cell_type": "markdown",
   "metadata": {},
   "source": [
    "## define symbols and expressions\n",
    "\n",
    "define variables as sympy symbols and $Z$ as a sympy expression"
   ]
  },
  {
   "cell_type": "code",
   "execution_count": 187,
   "metadata": {},
   "outputs": [],
   "source": [
    "A, B, C, D = sym.symbols(\"A B C D\")\n",
    "Z = A**2 + B*sym.log(C/D)"
   ]
  },
  {
   "cell_type": "code",
   "execution_count": 188,
   "metadata": {},
   "outputs": [
    {
     "data": {
      "text/latex": [
       "$\\displaystyle 1.54839609162077$"
      ],
      "text/plain": [
       "1.54839609162077"
      ]
     },
     "execution_count": 188,
     "metadata": {},
     "output_type": "execute_result"
    }
   ],
   "source": [
    "Z_bar = Z.subs(parameters['valor_promedio'].items())\n",
    "Z_bar"
   ]
  },
  {
   "cell_type": "markdown",
   "metadata": {},
   "source": [
    "## partial and total errors\n",
    "\n",
    "### partial errors \n",
    "\n",
    "These are calculated as the variation in $\\bar Z$ with respect to each variable as follows\n",
    "\n",
    "\\begin{align*}\n",
    "    \\alpha_Z^A &= Z(\\bar A + \\alpha_A, \\bar B, \\bar C, \\bar D) - f(\\bar A, \\bar B, \\bar C, \\bar D) \\\\\n",
    "    &\\vdots \\\\\n",
    "    \\alpha_Z^D &= Z(\\bar A, \\bar B, \\bar C, \\bar D + \\alpha_D) - f(\\bar A, \\bar B, \\bar C, \\bar D)\n",
    "\\end{align*}"
   ]
  },
  {
   "cell_type": "code",
   "execution_count": 194,
   "metadata": {},
   "outputs": [
    {
     "data": {
      "text/html": [
       "<div>\n",
       "<style scoped>\n",
       "    .dataframe tbody tr th:only-of-type {\n",
       "        vertical-align: middle;\n",
       "    }\n",
       "\n",
       "    .dataframe tbody tr th {\n",
       "        vertical-align: top;\n",
       "    }\n",
       "\n",
       "    .dataframe thead th {\n",
       "        text-align: right;\n",
       "    }\n",
       "</style>\n",
       "<table border=\"1\" class=\"dataframe\">\n",
       "  <thead>\n",
       "    <tr style=\"text-align: right;\">\n",
       "      <th></th>\n",
       "      <th>valor_promedio</th>\n",
       "      <th>incertidumbre</th>\n",
       "    </tr>\n",
       "    <tr>\n",
       "      <th>parametro</th>\n",
       "      <th></th>\n",
       "      <th></th>\n",
       "    </tr>\n",
       "  </thead>\n",
       "  <tbody>\n",
       "    <tr>\n",
       "      <th>A</th>\n",
       "      <td>1.20</td>\n",
       "      <td>0.10</td>\n",
       "    </tr>\n",
       "    <tr>\n",
       "      <th>B</th>\n",
       "      <td>1.30</td>\n",
       "      <td>0.01</td>\n",
       "    </tr>\n",
       "    <tr>\n",
       "      <th>C</th>\n",
       "      <td>1.25</td>\n",
       "      <td>0.01</td>\n",
       "    </tr>\n",
       "    <tr>\n",
       "      <th>D</th>\n",
       "      <td>1.15</td>\n",
       "      <td>0.05</td>\n",
       "    </tr>\n",
       "  </tbody>\n",
       "</table>\n",
       "</div>"
      ],
      "text/plain": [
       "           valor_promedio  incertidumbre\n",
       "parametro                               \n",
       "A                    1.20           0.10\n",
       "B                    1.30           0.01\n",
       "C                    1.25           0.01\n",
       "D                    1.15           0.05"
      ]
     },
     "execution_count": 194,
     "metadata": {},
     "output_type": "execute_result"
    }
   ],
   "source": [
    "parameters"
   ]
  },
  {
   "cell_type": "markdown",
   "metadata": {},
   "source": [
    "For a each variable, we calculate an array containing modified arguments. For variable $A$, for instance, the array is called *alpha_A_args* and is calculated according to replacement rules\n",
    "\n",
    "\\begin{align}\n",
    "    \\begin{array}{c}\n",
    "    A \\rightarrow A + \\alpha_A  \\\\\n",
    "    \\vdots \\\\\n",
    "    D \\rightarrow D\n",
    "    \\end{array}\n",
    "\\end{align}\n"
   ]
  },
  {
   "cell_type": "code",
   "execution_count": null,
   "metadata": {},
   "outputs": [],
   "source": [
    "\n",
    "alpha_A_args = parameters['valor_promedio'].copy()\n",
    "alpha_A_args.loc['A'] = alpha_A_args.loc['A'] + parameters['incertidumbre']['A']\n",
    "alpha_A = Z.subs(alpha_A_args.items()) - Z_bar"
   ]
  },
  {
   "cell_type": "markdown",
   "metadata": {},
   "source": [
    "For all variables\n",
    "\n",
    "\\begin{align*}\n",
    "    \\textit{'A'} &: \n",
    "    \\begin{pmatrix}\n",
    "    A \\rightarrow A + \\alpha_A  \\\\\n",
    "    \\vdots \\\\\n",
    "    D \\rightarrow D\n",
    "    \\end{pmatrix} \\\\\n",
    "    &\\qquad\\qquad\\vdots \\\\\n",
    "\\textit{'D'} &: \n",
    "\\begin{pmatrix}\n",
    "A \\rightarrow A  \\\\\n",
    "\\vdots \\\\\n",
    "D \\rightarrow D + \\alpha_D\n",
    "\\end{pmatrix}\n",
    "\\end{align*}"
   ]
  },
  {
   "cell_type": "code",
   "execution_count": 216,
   "metadata": {},
   "outputs": [],
   "source": [
    "mean_vals = parameters['valor_promedio'].copy()\n",
    "uncertainties_val = parameters['incertidumbre']\n",
    "alpha_args = {}\n",
    "for symbol in parameters.index:\n",
    "    alpha_args[symbol] = mean_vals.copy()\n",
    "    alpha_args[symbol].loc[symbol] = mean_vals.loc[symbol] + uncertainties_val.loc[symbol]\n",
    "    \n",
    "    "
   ]
  },
  {
   "cell_type": "markdown",
   "metadata": {},
   "source": [
    "Then, the value of $(\\alpha_Z^j)^2 = |Z(\\text{args}_j) - \\bar Z|^2$ where $\\text{args}_j$ are the just calculated arrays of modified arguments. For all variables, the values are stored in the array *partial_errors*"
   ]
  },
  {
   "cell_type": "code",
   "execution_count": 225,
   "metadata": {},
   "outputs": [
    {
     "data": {
      "text/latex": [
       "$\\displaystyle 0.0656691283861597$"
      ],
      "text/plain": [
       "0.0656691283861597"
      ]
     },
     "execution_count": 225,
     "metadata": {},
     "output_type": "execute_result"
    }
   ],
   "source": [
    "partial_sq_errors = np_array([abs(Z.subs(variable.items()) - Z_bar)**2 for variable in alpha_args.values()])\n",
    "total_error = partial_sq_errors.sum()\n",
    "total_error\n"
   ]
  }
 ],
 "metadata": {
  "interpreter": {
   "hash": "916dbcbb3f70747c44a77c7bcd40155683ae19c65e1c03b4aa3499c5328201f1"
  },
  "kernelspec": {
   "display_name": "Python 3.10.4 64-bit",
   "language": "python",
   "name": "python3"
  },
  "language_info": {
   "codemirror_mode": {
    "name": "ipython",
    "version": 3
   },
   "file_extension": ".py",
   "mimetype": "text/x-python",
   "name": "python",
   "nbconvert_exporter": "python",
   "pygments_lexer": "ipython3",
   "version": "3.10.4"
  },
  "orig_nbformat": 4
 },
 "nbformat": 4,
 "nbformat_minor": 2
}
