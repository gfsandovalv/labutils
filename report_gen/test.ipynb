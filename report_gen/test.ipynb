{
 "cells": [
  {
   "cell_type": "code",
   "execution_count": 39,
   "metadata": {},
   "outputs": [],
   "source": [
    "filename = 'report_info.txt'\n",
    "with open(filename) as file:\n",
    "    lines = [line.rstrip() for line in file]\n",
    "title = lines[0].removeprefix('título:').lstrip()\n",
    "author = [auth.lstrip() for auth in lines[1].removeprefix('autores:').lstrip().split(',')]\n",
    "date = lines[2].removeprefix('fecha:').lstrip()"
   ]
  },
  {
   "cell_type": "code",
   "execution_count": 40,
   "metadata": {},
   "outputs": [
    {
     "data": {
      "text/plain": [
       "'22 de abril'"
      ]
     },
     "execution_count": 40,
     "metadata": {},
     "output_type": "execute_result"
    }
   ],
   "source": [
    "date = r'\\today' if lines[2].removeprefix('fecha:').lstrip() == 'hoy' else date\n",
    "date"
   ]
  },
  {
   "cell_type": "code",
   "execution_count": 19,
   "metadata": {},
   "outputs": [],
   "source": [
    "authbl_commands = [\n",
    "    r\"\\usepackage{authblk}\",\n",
    "    r\"\\renewcommand*{\\Authsep}{, }\",\n",
    "    r\"\\renewcommand*{\\Authands}{\\newline} %%new line after each author\",\n",
    "    r\"\\renewcommand*{\\Authand}{\\authorcr}\",\n",
    "    r\"\\renewcommand*{\\Authand}{, }\",\n",
    "    r\"\\renewcommand*{\\Authands}{, }\",\n",
    "    r\"\\renewcommand*{\\Affilfont}{\\normalsize\\normalfont}\",\n",
    "    r\"\\renewcommand*{\\Authfont}{\\bfseries}    % make author names boldface\",\n",
    "    r\"\\setlength{\\affilsep}{2em}   % set the space between author and affiliation\",\n",
    "    r\"\\newsavebox\\affbox\"\n",
    "]\n",
    "\n",
    "header = [r\"\\usepackage[spanish]{babel}\",\n",
    "r\"\\usepackage[utf8]{inputenc}\",\n",
    "r\"\\usepackage[T1]{fontenc}\",\n",
    "r\"\\usepackage{float}\",\n",
    "r\"% Margins\",\n",
    "r\"\\topmargin=-0.45in\",\n",
    "r\"\\evensidemargin=0in\",\n",
    "r\"\\oddsidemargin=0in\",\n",
    "r\"\\textwidth=6.5in\",\n",
    "r\"\\textheight=9.0in\",\n",
    "r\"\\headsep=0.25in\"]\n"
   ]
  },
  {
   "cell_type": "code",
   "execution_count": 25,
   "metadata": {},
   "outputs": [],
   "source": [
    "from pylatex import Document, Section, Subsection, Command\n",
    "from pylatex.utils import italic, NoEscape\n",
    "\n",
    "\n",
    "def fill_document(doc):\n",
    "    \"\"\"Add a section, a subsection and some text to the document.\n",
    "\n",
    "    :param doc: the document\n",
    "    :type doc: :class:`pylatex.document.Document` instance\n",
    "    \"\"\"\n",
    "    with doc.create(Section('A section')):\n",
    "        doc.append('Some regular text and some ')\n",
    "        doc.append(italic('italic text. '))\n",
    "\n",
    "        with doc.create(Subsection('A subsection')):\n",
    "            doc.append('Also some crazy characters: $&#{}')\n",
    "\n",
    "\n",
    "if __name__ == '__main__':\n",
    "    # Basic document\n",
    "    doc = Document()\n",
    "    \"\"\" for option_line in authbl_commands:\n",
    "        doc.preamble.append(NoEscape(option_line))\n",
    "    for option_line in header:\n",
    "        doc.preamble.append(NoEscape(option_line)) \"\"\"\n",
    "    \n",
    "    header_path = 'template/header.tex'\n",
    "    with open(header_path) as file:\n",
    "        header = file.read()\n",
    "    doc.preamble.append(NoEscape(header))\n",
    "    \n",
    "    doc.preamble.append(Command('title', 'Awesome Title'))\n",
    "    doc.preamble.append(Command('author', 'Anonymous author'))\n",
    "    doc.preamble.append(Command('author', 'Anonymous author2'))\n",
    "    doc.preamble.append(Command('date', NoEscape(r'\\today')))\n",
    "    doc.append(NoEscape(r'\\maketitle'))\n",
    "    "
   ]
  },
  {
   "cell_type": "code",
   "execution_count": 26,
   "metadata": {},
   "outputs": [],
   "source": [
    "doc.generate_tex()\n",
    "#doc.generate_pdf(clean_tex=False)"
   ]
  }
 ],
 "metadata": {
  "interpreter": {
   "hash": "916dbcbb3f70747c44a77c7bcd40155683ae19c65e1c03b4aa3499c5328201f1"
  },
  "kernelspec": {
   "display_name": "Python 3.9.7 64-bit",
   "language": "python",
   "name": "python3"
  },
  "language_info": {
   "codemirror_mode": {
    "name": "ipython",
    "version": 3
   },
   "file_extension": ".py",
   "mimetype": "text/x-python",
   "name": "python",
   "nbconvert_exporter": "python",
   "pygments_lexer": "ipython3",
   "version": "3.10.4"
  },
  "orig_nbformat": 4
 },
 "nbformat": 4,
 "nbformat_minor": 2
}
